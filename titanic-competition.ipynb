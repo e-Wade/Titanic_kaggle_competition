{
 "cells": [
  {
   "cell_type": "markdown",
   "metadata": {
    "papermill": {
     "duration": 0.022714,
     "end_time": "2021-02-02T10:37:56.615379",
     "exception": false,
     "start_time": "2021-02-02T10:37:56.592665",
     "status": "completed"
    },
    "tags": []
   },
   "source": [
    "# Kaggle\n",
    "\n",
    "В этом домашнем задании вам нужно будет построить модель для данных соревнования [Titanic на Kaggle](https://www.kaggle.com/c/titanic/overview), сформировать файл с предсказаниями для тестовых данных и отправить его на проверку.\n",
    "\n",
    "В практике из урока вашим заданием было разобрать одно из самых популярных ядер для соревнования Titanic и преобразовать его таким образом, чтобы остались только преобразование данных и графики."
   ]
  },
  {
   "cell_type": "code",
   "execution_count": 1,
   "metadata": {
    "execution": {
     "iopub.execute_input": "2021-02-02T10:37:56.666988Z",
     "iopub.status.busy": "2021-02-02T10:37:56.666297Z",
     "iopub.status.idle": "2021-02-02T10:37:57.693365Z",
     "shell.execute_reply": "2021-02-02T10:37:57.693847Z"
    },
    "papermill": {
     "duration": 1.056967,
     "end_time": "2021-02-02T10:37:57.694182",
     "exception": false,
     "start_time": "2021-02-02T10:37:56.637215",
     "status": "completed"
    },
    "tags": []
   },
   "outputs": [],
   "source": [
    "import pandas as pd\n",
    "import re\n",
    "import numpy as np\n",
    "\n",
    "import seaborn as sns\n",
    "import matplotlib.pyplot as plt\n",
    "%matplotlib inline\n",
    "\n",
    "import warnings\n",
    "warnings.filterwarnings('ignore')"
   ]
  },
  {
   "cell_type": "code",
   "execution_count": 2,
   "metadata": {
    "execution": {
     "iopub.execute_input": "2021-02-02T10:37:57.745658Z",
     "iopub.status.busy": "2021-02-02T10:37:57.743604Z",
     "iopub.status.idle": "2021-02-02T10:37:57.806934Z",
     "shell.execute_reply": "2021-02-02T10:37:57.807494Z"
    },
    "papermill": {
     "duration": 0.091264,
     "end_time": "2021-02-02T10:37:57.807702",
     "exception": false,
     "start_time": "2021-02-02T10:37:57.716438",
     "status": "completed"
    },
    "tags": []
   },
   "outputs": [
    {
     "data": {
      "text/html": [
       "<div>\n",
       "<style scoped>\n",
       "    .dataframe tbody tr th:only-of-type {\n",
       "        vertical-align: middle;\n",
       "    }\n",
       "\n",
       "    .dataframe tbody tr th {\n",
       "        vertical-align: top;\n",
       "    }\n",
       "\n",
       "    .dataframe thead th {\n",
       "        text-align: right;\n",
       "    }\n",
       "</style>\n",
       "<table border=\"1\" class=\"dataframe\">\n",
       "  <thead>\n",
       "    <tr style=\"text-align: right;\">\n",
       "      <th></th>\n",
       "      <th>PassengerId</th>\n",
       "      <th>Survived</th>\n",
       "      <th>Pclass</th>\n",
       "      <th>Name</th>\n",
       "      <th>Sex</th>\n",
       "      <th>Age</th>\n",
       "      <th>SibSp</th>\n",
       "      <th>Parch</th>\n",
       "      <th>Ticket</th>\n",
       "      <th>Fare</th>\n",
       "      <th>Cabin</th>\n",
       "      <th>Embarked</th>\n",
       "    </tr>\n",
       "  </thead>\n",
       "  <tbody>\n",
       "    <tr>\n",
       "      <th>0</th>\n",
       "      <td>1</td>\n",
       "      <td>0</td>\n",
       "      <td>3</td>\n",
       "      <td>Braund, Mr. Owen Harris</td>\n",
       "      <td>male</td>\n",
       "      <td>22.0</td>\n",
       "      <td>1</td>\n",
       "      <td>0</td>\n",
       "      <td>A/5 21171</td>\n",
       "      <td>7.2500</td>\n",
       "      <td>NaN</td>\n",
       "      <td>S</td>\n",
       "    </tr>\n",
       "    <tr>\n",
       "      <th>1</th>\n",
       "      <td>2</td>\n",
       "      <td>1</td>\n",
       "      <td>1</td>\n",
       "      <td>Cumings, Mrs. John Bradley (Florence Briggs Th...</td>\n",
       "      <td>female</td>\n",
       "      <td>38.0</td>\n",
       "      <td>1</td>\n",
       "      <td>0</td>\n",
       "      <td>PC 17599</td>\n",
       "      <td>71.2833</td>\n",
       "      <td>C85</td>\n",
       "      <td>C</td>\n",
       "    </tr>\n",
       "    <tr>\n",
       "      <th>2</th>\n",
       "      <td>3</td>\n",
       "      <td>1</td>\n",
       "      <td>3</td>\n",
       "      <td>Heikkinen, Miss. Laina</td>\n",
       "      <td>female</td>\n",
       "      <td>26.0</td>\n",
       "      <td>0</td>\n",
       "      <td>0</td>\n",
       "      <td>STON/O2. 3101282</td>\n",
       "      <td>7.9250</td>\n",
       "      <td>NaN</td>\n",
       "      <td>S</td>\n",
       "    </tr>\n",
       "  </tbody>\n",
       "</table>\n",
       "</div>"
      ],
      "text/plain": [
       "   PassengerId  Survived  Pclass  \\\n",
       "0            1         0       3   \n",
       "1            2         1       1   \n",
       "2            3         1       3   \n",
       "\n",
       "                                                Name     Sex   Age  SibSp  \\\n",
       "0                            Braund, Mr. Owen Harris    male  22.0      1   \n",
       "1  Cumings, Mrs. John Bradley (Florence Briggs Th...  female  38.0      1   \n",
       "2                             Heikkinen, Miss. Laina  female  26.0      0   \n",
       "\n",
       "   Parch            Ticket     Fare Cabin Embarked  \n",
       "0      0         A/5 21171   7.2500   NaN        S  \n",
       "1      0          PC 17599  71.2833   C85        C  \n",
       "2      0  STON/O2. 3101282   7.9250   NaN        S  "
      ]
     },
     "execution_count": 2,
     "metadata": {},
     "output_type": "execute_result"
    }
   ],
   "source": [
    "# Load in the train and test datasets\n",
    "train = pd.read_csv('/kaggle/input/titanic/train.csv')\n",
    "test = pd.read_csv('/kaggle/input/titanic/test.csv')\n",
    "\n",
    "# Store our passenger ID for easy access\n",
    "PassengerId = test['PassengerId']\n",
    "\n",
    "train.head(3)"
   ]
  },
  {
   "cell_type": "code",
   "execution_count": 3,
   "metadata": {
    "execution": {
     "iopub.execute_input": "2021-02-02T10:37:57.857605Z",
     "iopub.status.busy": "2021-02-02T10:37:57.856167Z",
     "iopub.status.idle": "2021-02-02T10:37:57.966942Z",
     "shell.execute_reply": "2021-02-02T10:37:57.966356Z"
    },
    "papermill": {
     "duration": 0.136707,
     "end_time": "2021-02-02T10:37:57.967100",
     "exception": false,
     "start_time": "2021-02-02T10:37:57.830393",
     "status": "completed"
    },
    "tags": []
   },
   "outputs": [],
   "source": [
    "full_data = [train, test]\n",
    "\n",
    "# Gives the length of the name\n",
    "train['Name_length'] = train['Name'].apply(len)\n",
    "test['Name_length'] = test['Name'].apply(len)\n",
    "# Feature that tells whether a passenger had a cabin on the Titanic\n",
    "train['Has_Cabin'] = train[\"Cabin\"].apply(lambda x: 0 if type(x) == float else 1)\n",
    "test['Has_Cabin'] = test[\"Cabin\"].apply(lambda x: 0 if type(x) == float else 1)\n",
    "\n",
    "# Create new feature FamilySize as a combination of SibSp and Parch\n",
    "for dataset in full_data:\n",
    "    dataset['FamilySize'] = dataset['SibSp'] + dataset['Parch'] + 1\n",
    "# Create new feature IsAlone from FamilySize\n",
    "for dataset in full_data:\n",
    "    dataset['IsAlone'] = 0\n",
    "    dataset.loc[dataset['FamilySize'] == 1, 'IsAlone'] = 1\n",
    "# Remove all NULLS in the Embarked column\n",
    "for dataset in full_data:\n",
    "    dataset['Embarked'] = dataset['Embarked'].fillna('S')\n",
    "# Remove all NULLS in the Fare column and create a new feature CategoricalFare\n",
    "for dataset in full_data:\n",
    "    dataset['Fare'] = dataset['Fare'].fillna(train['Fare'].median())\n",
    "train['CategoricalFare'] = pd.qcut(train['Fare'], 4)\n",
    "# Create a New feature CategoricalAge\n",
    "for dataset in full_data:\n",
    "    age_avg = dataset['Age'].mean()\n",
    "    age_std = dataset['Age'].std()\n",
    "    age_null_count = dataset['Age'].isnull().sum()\n",
    "    age_null_random_list = np.random.randint(age_avg - age_std, age_avg + age_std, size=age_null_count)\n",
    "    dataset['Age'][np.isnan(dataset['Age'])] = age_null_random_list\n",
    "    dataset['Age'] = dataset['Age'].astype(int)\n",
    "train['CategoricalAge'] = pd.cut(train['Age'], 5)\n",
    "# Define function to extract titles from passenger names\n",
    "def get_title(name):\n",
    "    title_search = re.search(' ([A-Za-z]+)\\.', name)\n",
    "    # If the title exists, extract and return it.\n",
    "    if title_search:\n",
    "        return title_search.group(1)\n",
    "    return \"\"\n",
    "# Create a new feature Title, containing the titles of passenger names\n",
    "for dataset in full_data:\n",
    "    dataset['Title'] = dataset['Name'].apply(get_title)\n",
    "# Group all non-common titles into one single grouping \"Rare\"\n",
    "for dataset in full_data:\n",
    "    dataset['Title'] = dataset['Title'].replace(['Lady', 'Countess','Capt', 'Col','Don', 'Dr', 'Major', 'Rev', 'Sir', 'Jonkheer', 'Dona'], 'Rare')\n",
    "\n",
    "    dataset['Title'] = dataset['Title'].replace('Mlle', 'Miss')\n",
    "    dataset['Title'] = dataset['Title'].replace('Ms', 'Miss')\n",
    "    dataset['Title'] = dataset['Title'].replace('Mme', 'Mrs')\n",
    "\n",
    "for dataset in full_data:\n",
    "    # Mapping Sex\n",
    "    dataset['Sex'] = dataset['Sex'].map( {'female': 0, 'male': 1} ).astype(int)\n",
    "    \n",
    "    # Mapping titles\n",
    "    title_mapping = {\"Mr\": 1, \"Miss\": 2, \"Mrs\": 3, \"Master\": 4, \"Rare\": 5}\n",
    "    dataset['Title'] = dataset['Title'].map(title_mapping)\n",
    "    dataset['Title'] = dataset['Title'].fillna(0)\n",
    "    \n",
    "    # Mapping Embarked\n",
    "    dataset['Embarked'] = dataset['Embarked'].map( {'S': 0, 'C': 1, 'Q': 2} ).astype(int)\n",
    "    \n",
    "    # Mapping Fare\n",
    "    dataset.loc[ dataset['Fare'] <= 7.91, 'Fare'] = 0\n",
    "    dataset.loc[(dataset['Fare'] > 7.91) & (dataset['Fare'] <= 14.454), 'Fare'] = 1\n",
    "    dataset.loc[(dataset['Fare'] > 14.454) & (dataset['Fare'] <= 31), 'Fare']   = 2\n",
    "    dataset.loc[ dataset['Fare'] > 31, 'Fare'] = 3\n",
    "    dataset['Fare'] = dataset['Fare'].astype(int)\n",
    "    \n",
    "    # Mapping Age\n",
    "    dataset.loc[ dataset['Age'] <= 16, 'Age'] \t\t\t\t\t       = 0\n",
    "    dataset.loc[(dataset['Age'] > 16) & (dataset['Age'] <= 32), 'Age'] = 1\n",
    "    dataset.loc[(dataset['Age'] > 32) & (dataset['Age'] <= 48), 'Age'] = 2\n",
    "    dataset.loc[(dataset['Age'] > 48) & (dataset['Age'] <= 64), 'Age'] = 3\n",
    "    dataset.loc[ dataset['Age'] > 64, 'Age'] = 4"
   ]
  },
  {
   "cell_type": "code",
   "execution_count": 4,
   "metadata": {
    "execution": {
     "iopub.execute_input": "2021-02-02T10:37:58.018069Z",
     "iopub.status.busy": "2021-02-02T10:37:58.017348Z",
     "iopub.status.idle": "2021-02-02T10:37:58.024533Z",
     "shell.execute_reply": "2021-02-02T10:37:58.023908Z"
    },
    "papermill": {
     "duration": 0.0355,
     "end_time": "2021-02-02T10:37:58.024692",
     "exception": false,
     "start_time": "2021-02-02T10:37:57.989192",
     "status": "completed"
    },
    "tags": []
   },
   "outputs": [],
   "source": [
    "# Feature selection\n",
    "drop_elements = ['PassengerId', 'Name', 'Ticket', 'Cabin', 'SibSp']\n",
    "train = train.drop(drop_elements, axis = 1)\n",
    "train = train.drop(['CategoricalAge', 'CategoricalFare'], axis = 1)\n",
    "test  = test.drop(drop_elements, axis = 1)"
   ]
  },
  {
   "cell_type": "code",
   "execution_count": 5,
   "metadata": {
    "execution": {
     "iopub.execute_input": "2021-02-02T10:37:58.083702Z",
     "iopub.status.busy": "2021-02-02T10:37:58.083039Z",
     "iopub.status.idle": "2021-02-02T10:37:58.087617Z",
     "shell.execute_reply": "2021-02-02T10:37:58.088083Z"
    },
    "papermill": {
     "duration": 0.039803,
     "end_time": "2021-02-02T10:37:58.088343",
     "exception": false,
     "start_time": "2021-02-02T10:37:58.048540",
     "status": "completed"
    },
    "tags": []
   },
   "outputs": [
    {
     "data": {
      "text/html": [
       "<div>\n",
       "<style scoped>\n",
       "    .dataframe tbody tr th:only-of-type {\n",
       "        vertical-align: middle;\n",
       "    }\n",
       "\n",
       "    .dataframe tbody tr th {\n",
       "        vertical-align: top;\n",
       "    }\n",
       "\n",
       "    .dataframe thead th {\n",
       "        text-align: right;\n",
       "    }\n",
       "</style>\n",
       "<table border=\"1\" class=\"dataframe\">\n",
       "  <thead>\n",
       "    <tr style=\"text-align: right;\">\n",
       "      <th></th>\n",
       "      <th>Survived</th>\n",
       "      <th>Pclass</th>\n",
       "      <th>Sex</th>\n",
       "      <th>Age</th>\n",
       "      <th>Parch</th>\n",
       "      <th>Fare</th>\n",
       "      <th>Embarked</th>\n",
       "      <th>Name_length</th>\n",
       "      <th>Has_Cabin</th>\n",
       "      <th>FamilySize</th>\n",
       "      <th>IsAlone</th>\n",
       "      <th>Title</th>\n",
       "    </tr>\n",
       "  </thead>\n",
       "  <tbody>\n",
       "    <tr>\n",
       "      <th>0</th>\n",
       "      <td>0</td>\n",
       "      <td>3</td>\n",
       "      <td>1</td>\n",
       "      <td>1</td>\n",
       "      <td>0</td>\n",
       "      <td>0</td>\n",
       "      <td>0</td>\n",
       "      <td>23</td>\n",
       "      <td>0</td>\n",
       "      <td>2</td>\n",
       "      <td>0</td>\n",
       "      <td>1</td>\n",
       "    </tr>\n",
       "    <tr>\n",
       "      <th>1</th>\n",
       "      <td>1</td>\n",
       "      <td>1</td>\n",
       "      <td>0</td>\n",
       "      <td>2</td>\n",
       "      <td>0</td>\n",
       "      <td>3</td>\n",
       "      <td>1</td>\n",
       "      <td>51</td>\n",
       "      <td>1</td>\n",
       "      <td>2</td>\n",
       "      <td>0</td>\n",
       "      <td>3</td>\n",
       "    </tr>\n",
       "    <tr>\n",
       "      <th>2</th>\n",
       "      <td>1</td>\n",
       "      <td>3</td>\n",
       "      <td>0</td>\n",
       "      <td>1</td>\n",
       "      <td>0</td>\n",
       "      <td>1</td>\n",
       "      <td>0</td>\n",
       "      <td>22</td>\n",
       "      <td>0</td>\n",
       "      <td>1</td>\n",
       "      <td>1</td>\n",
       "      <td>2</td>\n",
       "    </tr>\n",
       "  </tbody>\n",
       "</table>\n",
       "</div>"
      ],
      "text/plain": [
       "   Survived  Pclass  Sex  Age  Parch  Fare  Embarked  Name_length  Has_Cabin  \\\n",
       "0         0       3    1    1      0     0         0           23          0   \n",
       "1         1       1    0    2      0     3         1           51          1   \n",
       "2         1       3    0    1      0     1         0           22          0   \n",
       "\n",
       "   FamilySize  IsAlone  Title  \n",
       "0           2        0      1  \n",
       "1           2        0      3  \n",
       "2           1        1      2  "
      ]
     },
     "execution_count": 5,
     "metadata": {},
     "output_type": "execute_result"
    }
   ],
   "source": [
    "train.head(3)"
   ]
  },
  {
   "cell_type": "code",
   "execution_count": 6,
   "metadata": {
    "execution": {
     "iopub.execute_input": "2021-02-02T10:37:58.157940Z",
     "iopub.status.busy": "2021-02-02T10:37:58.157198Z",
     "iopub.status.idle": "2021-02-02T10:37:59.491008Z",
     "shell.execute_reply": "2021-02-02T10:37:59.491497Z"
    },
    "papermill": {
     "duration": 1.379827,
     "end_time": "2021-02-02T10:37:59.491693",
     "exception": false,
     "start_time": "2021-02-02T10:37:58.111866",
     "status": "completed"
    },
    "tags": []
   },
   "outputs": [
    {
     "data": {
      "text/plain": [
       "<AxesSubplot:title={'center':'Pearson Correlation of Features'}>"
      ]
     },
     "execution_count": 6,
     "metadata": {},
     "output_type": "execute_result"
    },
    {
     "data": {
      "image/png": "[encoded data removed]",
      "text/plain": [
       "<Figure size 1008x864 with 2 Axes>"
      ]
     },
     "metadata": {
      "needs_background": "light"
     },
     "output_type": "display_data"
    }
   ],
   "source": [
    "colormap = plt.cm.RdBu\n",
    "plt.figure(figsize=(14,12))\n",
    "plt.title('Pearson Correlation of Features', y=1.05, size=15)\n",
    "sns.heatmap(train.astype(float).corr(),linewidths=0.1,vmax=1.0, \n",
    "            square=True, cmap=colormap, linecolor='white', annot=True)"
   ]
  },
  {
   "cell_type": "code",
   "execution_count": 7,
   "metadata": {
    "execution": {
     "iopub.execute_input": "2021-02-02T10:37:59.548663Z",
     "iopub.status.busy": "2021-02-02T10:37:59.547936Z",
     "iopub.status.idle": "2021-02-02T10:38:15.412606Z",
     "shell.execute_reply": "2021-02-02T10:38:15.413154Z"
    },
    "papermill": {
     "duration": 15.894805,
     "end_time": "2021-02-02T10:38:15.413383",
     "exception": false,
     "start_time": "2021-02-02T10:37:59.518578",
     "status": "completed"
    },
    "tags": []
   },
   "outputs": [
    {
     "data": {
      "text/plain": [
       "<seaborn.axisgrid.PairGrid at 0x7f6e11d9e350>"
      ]
     },
     "execution_count": 7,
     "metadata": {},
     "output_type": "execute_result"
    },
    {
     "data": {
      "image/png": "[encoded data removed]",
      "text/plain": [
       "<Figure size 743.075x691.2 with 72 Axes>"
      ]
     },
     "metadata": {
      "needs_background": "light"
     },
     "output_type": "display_data"
    }
   ],
   "source": [
    "g = sns.pairplot(train[[u'Survived', u'Pclass', u'Sex', u'Age', u'Parch', u'Fare', \n",
    "                        u'Embarked', u'FamilySize', u'Title']], \n",
    "                 hue='Survived', palette = 'seismic', size=1.2, plot_kws=dict(s=10))\n",
    "g.set(xticklabels=[])"
   ]
  },
  {
   "cell_type": "markdown",
   "metadata": {
    "papermill": {
     "duration": 0.030688,
     "end_time": "2021-02-02T10:38:15.476191",
     "exception": false,
     "start_time": "2021-02-02T10:38:15.445503",
     "status": "completed"
    },
    "tags": []
   },
   "source": [
    "Итак, у нас получились два датасета с новыми признаками. Теперь приступим к построению модели.\n",
    "\n",
    "### Построение модели\n",
    "\n",
    "### 1.\n",
    "\n",
    "В качестве базовых алгоритмов используем RandomForestClassifier, SVC, GradientBoostingClassifier и LogisticRegression; в качестве мета-алгоритма - XGBoost.\n",
    "\n",
    "Разделим данные train на тренировочную и валидационную выборки с random_state=17 и параметром разбиения test_size=.3 (в качестве целевой переменной возьмем столбец Survived, а в качестве признаков - все остальные столбцы).\n"
   ]
  },
  {
   "cell_type": "code",
   "execution_count": 8,
   "metadata": {
    "execution": {
     "iopub.execute_input": "2021-02-02T10:38:15.556849Z",
     "iopub.status.busy": "2021-02-02T10:38:15.555864Z",
     "iopub.status.idle": "2021-02-02T10:38:15.559487Z",
     "shell.execute_reply": "2021-02-02T10:38:15.558886Z"
    },
    "papermill": {
     "duration": 0.051562,
     "end_time": "2021-02-02T10:38:15.559640",
     "exception": false,
     "start_time": "2021-02-02T10:38:15.508078",
     "status": "completed"
    },
    "tags": []
   },
   "outputs": [],
   "source": [
    "def stacking(models, meta_alg, data_train, targets_train, data_test, targets_test=None, random_state=None, test_size=None, cv=5):\n",
    "    \n",
    "    \"\"\"Реализация алгоритма Stacking\n",
    "    \n",
    "    models - список объектов базовых алгоритмов\n",
    "    meta_alg - мета-алгоритм \n",
    "    data_train, targets_train, data_test, targets_test - тренировочные и тестовые признаки и целевые переменные\n",
    "    test_size - размер тестовых данных для блендинга в промежутке (0, 1)\n",
    "    cv - количество разбиений для кросс-валидации\"\"\"\n",
    "    \n",
    "    # stacking\n",
    "    if test_size is None:\n",
    "        # создание пустой матрицы meta_mtrx\n",
    "        meta_mtrx = np.empty((data_train.shape[0], len(models)))\n",
    "        # заполнение матрицы meta_mtrx\n",
    "        for n, model in enumerate(models):\n",
    "            meta_mtrx[:, n] = cross_val_predict(model, data_train, targets_train, cv=cv, method='predict')\n",
    "            model_obj = model.fit(data_train, targets_train)\n",
    "            \n",
    "        # мета-алгоритм\n",
    "        meta_model = meta_alg.fit(meta_mtrx, targets_train)\n",
    "        \n",
    "        # мета-признаки базовых алгоритмов для тестовых данных\n",
    "        meta_mtrx_test = np.empty((data_test.shape[0], len(models)))\n",
    "        for n, model in enumerate(models):\n",
    "            meta_mtrx_test[:, n] = model.predict(data_test)\n",
    "        \n",
    "        # предсказания мета-алгоритма\n",
    "        meta_predict = meta_model.predict(meta_mtrx_test)\n",
    "        \n",
    "        # выводим метрику auc\n",
    "        if targets_test is not None:\n",
    "            print(f'Stacking AUC: {roc_auc_score(targets_test, meta_predict)}')\n",
    "        \n",
    "        # вывод полученных предсказаний\n",
    "        print(f'\\nPredicted values: \\n{meta_predict}')\n",
    "        \n",
    "        return meta_predict\n",
    "        \n",
    "    \n",
    "    # blending\n",
    "    elif test_size > 0 and test_size < 1:\n",
    "        # Разбиение на тренировочные данные и валидационные данные\n",
    "        train, valid, train_test, valid_test = train_test_split(data_train,\n",
    "                                                               targets_train,\n",
    "                                                               test_size=test_size,\n",
    "                                                               random_state=random_state)\n",
    "        # определение матрицы meta_mtrx\n",
    "        meta_mtrx = np.empty((valid.shape[0], len(models)))\n",
    "        # заполнение матрицы meta_mtrx\n",
    "        for n, model in enumerate(models):\n",
    "            model_obj = model.fit(train, train_test)\n",
    "            meta_mtrx[:, n] = model_obj.predict(valid)\n",
    "        \n",
    "        # мета-алгоритм\n",
    "        meta_model = meta_alg.fit(meta_mtrx, valid_test)\n",
    "        \n",
    "        # мета-признаки базовых алгоритмов для тестовых данных\n",
    "        meta_mtrx_test = np.empty((data_test.shape[0], len(models)))\n",
    "        for n, model in enumerate(models):\n",
    "            meta_mtrx_test[:, n] = model.predict(data_test)\n",
    "        \n",
    "        # предсказания мета-алгоритма\n",
    "        meta_predict = meta.predict(meta_mtrx_test)\n",
    "        \n",
    "        # выводим метрику auc\n",
    "        if targets_test is not None:\n",
    "            print(f'Stacking AUC: {roc_auc_score(targets_test, meta_predict)}')\n",
    "        \n",
    "        # вывод полученных предсказаний\n",
    "        print(f'\\nPredicted values: \\n{meta_predict}')\n",
    "        \n",
    "        return meta_predict\n",
    "        \n",
    "    else:\n",
    "        raise ValueError(\"test_size must be between 0 and 1\")"
   ]
  },
  {
   "cell_type": "markdown",
   "metadata": {
    "papermill": {
     "duration": 0.032168,
     "end_time": "2021-02-02T10:38:15.623463",
     "exception": false,
     "start_time": "2021-02-02T10:38:15.591295",
     "status": "completed"
    },
    "tags": []
   },
   "source": [
    "Ниже приведены параметры для каждого из базовых алгоритмов, которые необходимо настроить на 5-кратной кросс-валидации с помощью GridSearchCV:"
   ]
  },
  {
   "cell_type": "code",
   "execution_count": 9,
   "metadata": {
    "execution": {
     "iopub.execute_input": "2021-02-02T10:38:15.694293Z",
     "iopub.status.busy": "2021-02-02T10:38:15.693527Z",
     "iopub.status.idle": "2021-02-02T10:38:16.569995Z",
     "shell.execute_reply": "2021-02-02T10:38:16.569423Z"
    },
    "papermill": {
     "duration": 0.915913,
     "end_time": "2021-02-02T10:38:16.570143",
     "exception": false,
     "start_time": "2021-02-02T10:38:15.654230",
     "status": "completed"
    },
    "tags": []
   },
   "outputs": [],
   "source": [
    "from sklearn.model_selection import (GridSearchCV,\n",
    "                                     train_test_split,\n",
    "                                     StratifiedKFold,\n",
    "                                    cross_val_predict)\n",
    "\n",
    "from sklearn.ensemble import GradientBoostingClassifier, RandomForestClassifier\n",
    "from sklearn.svm import SVC\n",
    "from sklearn.linear_model import LogisticRegression\n",
    "\n",
    "from xgboost import XGBClassifier\n",
    "\n",
    "# параметры базовых алгоритмов\n",
    "gbc_params = {'learning_rate': np.arange(0.1, 0.6, 0.1)} # GradientBoostingClassifier\n",
    "\n",
    "rfc_params = {'n_estimators': range(10, 100, 10), # RandomForestClassifier\n",
    "              'min_samples_leaf': range(1, 5)}\n",
    "\n",
    "svc_params = {'kernel': ['linear', 'rbf'], # SVC\n",
    "              'C': np.arange(0.1, 1, 0.2)}\n",
    "\n",
    "lr_params = {'C': np.arange(0.5, 1, 0.1)}\n",
    "\n",
    "skf = StratifiedKFold(n_splits=5, random_state=17)"
   ]
  },
  {
   "cell_type": "code",
   "execution_count": 10,
   "metadata": {
    "execution": {
     "iopub.execute_input": "2021-02-02T10:38:16.644179Z",
     "iopub.status.busy": "2021-02-02T10:38:16.642254Z",
     "iopub.status.idle": "2021-02-02T10:38:16.647802Z",
     "shell.execute_reply": "2021-02-02T10:38:16.648499Z"
    },
    "papermill": {
     "duration": 0.047396,
     "end_time": "2021-02-02T10:38:16.648711",
     "exception": false,
     "start_time": "2021-02-02T10:38:16.601315",
     "status": "completed"
    },
    "tags": []
   },
   "outputs": [],
   "source": [
    "targets = train.Survived\n",
    "data = train.drop(columns='Survived')\n",
    "\n",
    "\n",
    "# делаем разбивку\n",
    "x_train, x_test, y_train, y_test = train_test_split(data, \n",
    "                                                    targets,\n",
    "                                                    test_size=0.3,\n",
    "                                                    random_state=17)\n",
    "\n",
    "# определяем базовые алгоритмы\n",
    "rfc = RandomForestClassifier(random_state=17)\n",
    "svc = SVC(random_state=17)\n",
    "gbc = GradientBoostingClassifier(random_state=17)\n",
    "lr = LogisticRegression(random_state=17)\n",
    "\n",
    "# определяем мета-алгоритм\n",
    "meta = XGBClassifier(random_state=17, eval_metric='logloss')\n",
    "\n",
    "# определяем список базовых алгоритмов\n",
    "models = [rfc, lr, svc, gbc]"
   ]
  },
  {
   "cell_type": "code",
   "execution_count": 11,
   "metadata": {
    "execution": {
     "iopub.execute_input": "2021-02-02T10:38:16.718025Z",
     "iopub.status.busy": "2021-02-02T10:38:16.717290Z",
     "iopub.status.idle": "2021-02-02T10:38:16.720526Z",
     "shell.execute_reply": "2021-02-02T10:38:16.721076Z"
    },
    "papermill": {
     "duration": 0.041666,
     "end_time": "2021-02-02T10:38:16.721299",
     "exception": false,
     "start_time": "2021-02-02T10:38:16.679633",
     "status": "completed"
    },
    "tags": []
   },
   "outputs": [],
   "source": [
    "# определение объектов GridSearch для каждого базового алгоритма\n",
    "grid_rfc = GridSearchCV(rfc, rfc_params, cv=skf)\n",
    "grid_svc = GridSearchCV(svc, svc_params, cv=skf)\n",
    "grid_gbc = GridSearchCV(gbc, gbc_params, cv=skf)\n",
    "grid_lr = GridSearchCV(lr, lr_params, cv=skf)"
   ]
  },
  {
   "cell_type": "markdown",
   "metadata": {
    "papermill": {
     "duration": 0.031624,
     "end_time": "2021-02-02T10:38:16.784659",
     "exception": false,
     "start_time": "2021-02-02T10:38:16.753035",
     "status": "completed"
    },
    "tags": []
   },
   "source": [
    "**Обучение объектов GridSearch и вывод лучших параметров**"
   ]
  },
  {
   "cell_type": "code",
   "execution_count": 12,
   "metadata": {
    "execution": {
     "iopub.execute_input": "2021-02-02T10:38:16.856008Z",
     "iopub.status.busy": "2021-02-02T10:38:16.855037Z",
     "iopub.status.idle": "2021-02-02T10:38:37.707401Z",
     "shell.execute_reply": "2021-02-02T10:38:37.706464Z"
    },
    "papermill": {
     "duration": 20.890412,
     "end_time": "2021-02-02T10:38:37.707575",
     "exception": false,
     "start_time": "2021-02-02T10:38:16.817163",
     "status": "completed"
    },
    "tags": []
   },
   "outputs": [
    {
     "data": {
      "text/plain": [
       "GridSearchCV(cv=StratifiedKFold(n_splits=5, random_state=17, shuffle=False),\n",
       "             estimator=RandomForestClassifier(random_state=17),\n",
       "             param_grid={'min_samples_leaf': range(1, 5),\n",
       "                         'n_estimators': range(10, 100, 10)})"
      ]
     },
     "execution_count": 12,
     "metadata": {},
     "output_type": "execute_result"
    }
   ],
   "source": [
    "# алгоритм RandomForest\n",
    "grid_rfc.fit(x_train, y_train)"
   ]
  },
  {
   "cell_type": "code",
   "execution_count": 13,
   "metadata": {
    "execution": {
     "iopub.execute_input": "2021-02-02T10:38:37.779762Z",
     "iopub.status.busy": "2021-02-02T10:38:37.778748Z",
     "iopub.status.idle": "2021-02-02T10:38:37.783560Z",
     "shell.execute_reply": "2021-02-02T10:38:37.782900Z"
    },
    "papermill": {
     "duration": 0.043292,
     "end_time": "2021-02-02T10:38:37.783713",
     "exception": false,
     "start_time": "2021-02-02T10:38:37.740421",
     "status": "completed"
    },
    "tags": []
   },
   "outputs": [
    {
     "data": {
      "text/plain": [
       "{'min_samples_leaf': 3, 'n_estimators': 10}"
      ]
     },
     "execution_count": 13,
     "metadata": {},
     "output_type": "execute_result"
    }
   ],
   "source": [
    "rfc_best_params = grid_rfc.best_params_\n",
    "rfc_best_params"
   ]
  },
  {
   "cell_type": "code",
   "execution_count": 14,
   "metadata": {
    "execution": {
     "iopub.execute_input": "2021-02-02T10:38:37.858113Z",
     "iopub.status.busy": "2021-02-02T10:38:37.857356Z",
     "iopub.status.idle": "2021-02-02T10:38:39.263622Z",
     "shell.execute_reply": "2021-02-02T10:38:39.264151Z"
    },
    "papermill": {
     "duration": 1.447185,
     "end_time": "2021-02-02T10:38:39.264426",
     "exception": false,
     "start_time": "2021-02-02T10:38:37.817241",
     "status": "completed"
    },
    "tags": []
   },
   "outputs": [
    {
     "data": {
      "text/plain": [
       "GridSearchCV(cv=StratifiedKFold(n_splits=5, random_state=17, shuffle=False),\n",
       "             estimator=SVC(random_state=17),\n",
       "             param_grid={'C': array([0.1, 0.3, 0.5, 0.7, 0.9]),\n",
       "                         'kernel': ['linear', 'rbf']})"
      ]
     },
     "execution_count": 14,
     "metadata": {},
     "output_type": "execute_result"
    }
   ],
   "source": [
    "# алгоритм Support Vector Classification\n",
    "grid_svc.fit(x_train, y_train)"
   ]
  },
  {
   "cell_type": "code",
   "execution_count": 15,
   "metadata": {
    "execution": {
     "iopub.execute_input": "2021-02-02T10:38:39.340995Z",
     "iopub.status.busy": "2021-02-02T10:38:39.339971Z",
     "iopub.status.idle": "2021-02-02T10:38:39.345689Z",
     "shell.execute_reply": "2021-02-02T10:38:39.344967Z"
    },
    "papermill": {
     "duration": 0.046293,
     "end_time": "2021-02-02T10:38:39.345861",
     "exception": false,
     "start_time": "2021-02-02T10:38:39.299568",
     "status": "completed"
    },
    "tags": []
   },
   "outputs": [
    {
     "data": {
      "text/plain": [
       "{'C': 0.1, 'kernel': 'linear'}"
      ]
     },
     "execution_count": 15,
     "metadata": {},
     "output_type": "execute_result"
    }
   ],
   "source": [
    "svc_best_params = grid_svc.best_params_\n",
    "svc_best_params"
   ]
  },
  {
   "cell_type": "code",
   "execution_count": 16,
   "metadata": {
    "execution": {
     "iopub.execute_input": "2021-02-02T10:38:39.427765Z",
     "iopub.status.busy": "2021-02-02T10:38:39.423395Z",
     "iopub.status.idle": "2021-02-02T10:38:42.288232Z",
     "shell.execute_reply": "2021-02-02T10:38:42.287680Z"
    },
    "papermill": {
     "duration": 2.908338,
     "end_time": "2021-02-02T10:38:42.288427",
     "exception": false,
     "start_time": "2021-02-02T10:38:39.380089",
     "status": "completed"
    },
    "tags": []
   },
   "outputs": [
    {
     "data": {
      "text/plain": [
       "GridSearchCV(cv=StratifiedKFold(n_splits=5, random_state=17, shuffle=False),\n",
       "             estimator=GradientBoostingClassifier(random_state=17),\n",
       "             param_grid={'learning_rate': array([0.1, 0.2, 0.3, 0.4, 0.5])})"
      ]
     },
     "execution_count": 16,
     "metadata": {},
     "output_type": "execute_result"
    }
   ],
   "source": [
    "# алгоритм GradientBoosting\n",
    "grid_gbc.fit(x_train, y_train)"
   ]
  },
  {
   "cell_type": "code",
   "execution_count": 17,
   "metadata": {
    "execution": {
     "iopub.execute_input": "2021-02-02T10:38:42.363850Z",
     "iopub.status.busy": "2021-02-02T10:38:42.362871Z",
     "iopub.status.idle": "2021-02-02T10:38:42.368062Z",
     "shell.execute_reply": "2021-02-02T10:38:42.367392Z"
    },
    "papermill": {
     "duration": 0.043855,
     "end_time": "2021-02-02T10:38:42.368214",
     "exception": false,
     "start_time": "2021-02-02T10:38:42.324359",
     "status": "completed"
    },
    "tags": []
   },
   "outputs": [
    {
     "data": {
      "text/plain": [
       "{'learning_rate': 0.30000000000000004}"
      ]
     },
     "execution_count": 17,
     "metadata": {},
     "output_type": "execute_result"
    }
   ],
   "source": [
    "gbc_best_params = grid_gbc.best_params_\n",
    "gbc_best_params"
   ]
  },
  {
   "cell_type": "code",
   "execution_count": 18,
   "metadata": {
    "execution": {
     "iopub.execute_input": "2021-02-02T10:38:42.447225Z",
     "iopub.status.busy": "2021-02-02T10:38:42.446461Z",
     "iopub.status.idle": "2021-02-02T10:38:43.382344Z",
     "shell.execute_reply": "2021-02-02T10:38:43.381011Z"
    },
    "papermill": {
     "duration": 0.978744,
     "end_time": "2021-02-02T10:38:43.382526",
     "exception": false,
     "start_time": "2021-02-02T10:38:42.403782",
     "status": "completed"
    },
    "tags": []
   },
   "outputs": [
    {
     "data": {
      "text/plain": [
       "GridSearchCV(cv=StratifiedKFold(n_splits=5, random_state=17, shuffle=False),\n",
       "             estimator=LogisticRegression(random_state=17),\n",
       "             param_grid={'C': array([0.5, 0.6, 0.7, 0.8, 0.9])})"
      ]
     },
     "execution_count": 18,
     "metadata": {},
     "output_type": "execute_result"
    }
   ],
   "source": [
    "# алгоритм LogisticRegression\n",
    "grid_lr.fit(x_train, y_train)"
   ]
  },
  {
   "cell_type": "code",
   "execution_count": 19,
   "metadata": {
    "execution": {
     "iopub.execute_input": "2021-02-02T10:38:43.465432Z",
     "iopub.status.busy": "2021-02-02T10:38:43.464440Z",
     "iopub.status.idle": "2021-02-02T10:38:43.469354Z",
     "shell.execute_reply": "2021-02-02T10:38:43.469824Z"
    },
    "papermill": {
     "duration": 0.049618,
     "end_time": "2021-02-02T10:38:43.470016",
     "exception": false,
     "start_time": "2021-02-02T10:38:43.420398",
     "status": "completed"
    },
    "tags": []
   },
   "outputs": [
    {
     "data": {
      "text/plain": [
       "{'C': 0.5}"
      ]
     },
     "execution_count": 19,
     "metadata": {},
     "output_type": "execute_result"
    }
   ],
   "source": [
    "lr_best_params = grid_lr.best_params_\n",
    "lr_best_params"
   ]
  },
  {
   "cell_type": "markdown",
   "metadata": {
    "papermill": {
     "duration": 0.036222,
     "end_time": "2021-02-02T10:38:43.541629",
     "exception": false,
     "start_time": "2021-02-02T10:38:43.505407",
     "status": "completed"
    },
    "tags": []
   },
   "source": [
    "**Получение предсказаний для каждого объекта**"
   ]
  },
  {
   "cell_type": "code",
   "execution_count": 20,
   "metadata": {
    "execution": {
     "iopub.execute_input": "2021-02-02T10:38:43.622176Z",
     "iopub.status.busy": "2021-02-02T10:38:43.621450Z",
     "iopub.status.idle": "2021-02-02T10:38:43.636102Z",
     "shell.execute_reply": "2021-02-02T10:38:43.635360Z"
    },
    "papermill": {
     "duration": 0.058954,
     "end_time": "2021-02-02T10:38:43.636287",
     "exception": false,
     "start_time": "2021-02-02T10:38:43.577333",
     "status": "completed"
    },
    "tags": []
   },
   "outputs": [],
   "source": [
    "grid_rfc_predictions = grid_rfc.predict(x_test)\n",
    "grid_svc_predictions = grid_svc.predict(x_test)\n",
    "grid_gbc_predictions = grid_gbc.predict(x_test)\n",
    "grid_lr_predictions = grid_lr.predict(x_test)"
   ]
  },
  {
   "cell_type": "markdown",
   "metadata": {
    "papermill": {
     "duration": 0.034729,
     "end_time": "2021-02-02T10:38:43.705835",
     "exception": false,
     "start_time": "2021-02-02T10:38:43.671106",
     "status": "completed"
    },
    "tags": []
   },
   "source": [
    "**Так как на Kaggle во вкладке 'Overwiew' в пункте 'Metric' указана 'accuracy', то ее и будем выводить**"
   ]
  },
  {
   "cell_type": "code",
   "execution_count": 21,
   "metadata": {
    "execution": {
     "iopub.execute_input": "2021-02-02T10:38:43.786725Z",
     "iopub.status.busy": "2021-02-02T10:38:43.785549Z",
     "iopub.status.idle": "2021-02-02T10:38:43.790551Z",
     "shell.execute_reply": "2021-02-02T10:38:43.789788Z"
    },
    "papermill": {
     "duration": 0.049477,
     "end_time": "2021-02-02T10:38:43.790718",
     "exception": false,
     "start_time": "2021-02-02T10:38:43.741241",
     "status": "completed"
    },
    "tags": []
   },
   "outputs": [],
   "source": [
    "from sklearn.metrics import accuracy_score\n",
    "\n",
    "accuracy_rfc = accuracy_score(y_test, grid_rfc_predictions)\n",
    "accuracy_svc = accuracy_score(y_test, grid_svc_predictions)\n",
    "accuracy_gbc = accuracy_score(y_test, grid_gbc_predictions)\n",
    "accuracy_lr = accuracy_score(y_test, grid_lr_predictions)"
   ]
  },
  {
   "cell_type": "code",
   "execution_count": 22,
   "metadata": {
    "execution": {
     "iopub.execute_input": "2021-02-02T10:38:43.868152Z",
     "iopub.status.busy": "2021-02-02T10:38:43.867213Z",
     "iopub.status.idle": "2021-02-02T10:38:43.872972Z",
     "shell.execute_reply": "2021-02-02T10:38:43.871988Z"
    },
    "papermill": {
     "duration": 0.047353,
     "end_time": "2021-02-02T10:38:43.873189",
     "exception": false,
     "start_time": "2021-02-02T10:38:43.825836",
     "status": "completed"
    },
    "tags": []
   },
   "outputs": [
    {
     "name": "stdout",
     "output_type": "stream",
     "text": [
      "Accuracy of grid_rfc: 0.7798507462686567, \n",
      "Accuracy of grid_svc: 0.7873134328358209, \n",
      "Accuracy of grid_gbc: 0.7798507462686567, \n",
      "Accuracy of grid_lr:  0.7985074626865671, \n",
      "\n"
     ]
    }
   ],
   "source": [
    "print(f'Accuracy of grid_rfc: {accuracy_rfc}, \\n'\n",
    "      f'Accuracy of grid_svc: {accuracy_svc}, \\n'\n",
    "      f'Accuracy of grid_gbc: {accuracy_gbc}, \\n'\n",
    "      f'Accuracy of grid_lr:  {accuracy_lr}, \\n')"
   ]
  },
  {
   "cell_type": "code",
   "execution_count": 23,
   "metadata": {
    "execution": {
     "iopub.execute_input": "2021-02-02T10:38:43.952226Z",
     "iopub.status.busy": "2021-02-02T10:38:43.951567Z",
     "iopub.status.idle": "2021-02-02T10:38:43.954181Z",
     "shell.execute_reply": "2021-02-02T10:38:43.954671Z"
    },
    "papermill": {
     "duration": 0.045433,
     "end_time": "2021-02-02T10:38:43.954870",
     "exception": false,
     "start_time": "2021-02-02T10:38:43.909437",
     "status": "completed"
    },
    "tags": []
   },
   "outputs": [],
   "source": [
    "xgb_params = {'n_estimators': range(10, 100, 5),\n",
    "              'eta': np.arange(0.1, 1., .1),\n",
    "              'min_child_weight': range(1, 10, 1),\n",
    "              'subsample': np.arange(0.1, 1., 0.2)}"
   ]
  },
  {
   "cell_type": "code",
   "execution_count": 24,
   "metadata": {
    "execution": {
     "iopub.execute_input": "2021-02-02T10:38:44.031093Z",
     "iopub.status.busy": "2021-02-02T10:38:44.030376Z",
     "iopub.status.idle": "2021-02-02T10:38:44.036466Z",
     "shell.execute_reply": "2021-02-02T10:38:44.037020Z"
    },
    "papermill": {
     "duration": 0.046596,
     "end_time": "2021-02-02T10:38:44.037218",
     "exception": false,
     "start_time": "2021-02-02T10:38:43.990622",
     "status": "completed"
    },
    "tags": []
   },
   "outputs": [],
   "source": [
    "# настройки мета алгоритма\n",
    "grid_meta = GridSearchCV(meta, xgb_params, cv=5)\n",
    "\n",
    "# пустая матрица для метапризнаков\n",
    "meta_mtrx = np.empty((x_test.shape[0], len(models)))\n",
    "\n",
    "# список с предсказаниями базовых алгоритмов\n",
    "base_predictions_list = [grid_rfc_predictions, grid_svc_predictions, grid_gbc_predictions, grid_lr_predictions]\n",
    "\n",
    "# заполнение матрицы предсказаниями\n",
    "for n, model in enumerate(base_predictions_list):\n",
    "    meta_mtrx[:, n] = model"
   ]
  },
  {
   "cell_type": "code",
   "execution_count": 25,
   "metadata": {
    "execution": {
     "iopub.execute_input": "2021-02-02T10:38:44.115614Z",
     "iopub.status.busy": "2021-02-02T10:38:44.114894Z",
     "iopub.status.idle": "2021-02-02T10:50:41.230495Z",
     "shell.execute_reply": "2021-02-02T10:50:41.229940Z"
    },
    "papermill": {
     "duration": 717.157208,
     "end_time": "2021-02-02T10:50:41.230642",
     "exception": false,
     "start_time": "2021-02-02T10:38:44.073434",
     "status": "completed"
    },
    "tags": []
   },
   "outputs": [
    {
     "name": "stdout",
     "output_type": "stream",
     "text": [
      "CPU times: user 46min 33s, sys: 28.3 s, total: 47min 1s\n",
      "Wall time: 11min 57s\n"
     ]
    },
    {
     "data": {
      "text/plain": [
       "GridSearchCV(cv=5,\n",
       "             estimator=XGBClassifier(base_score=None, booster=None,\n",
       "                                     colsample_bylevel=None,\n",
       "                                     colsample_bynode=None,\n",
       "                                     colsample_bytree=None,\n",
       "                                     eval_metric='logloss', gamma=None,\n",
       "                                     gpu_id=None, importance_type='gain',\n",
       "                                     interaction_constraints=None,\n",
       "                                     learning_rate=None, max_delta_step=None,\n",
       "                                     max_depth=None, min_child_weight=None,\n",
       "                                     missing=nan, monotone_constraints=None,\n",
       "                                     n...s=100, n_jobs=None,\n",
       "                                     num_parallel_tree=None, random_state=17,\n",
       "                                     reg_alpha=None, reg_lambda=None,\n",
       "                                     scale_pos_weight=None, subsample=None,\n",
       "                                     tree_method=None, validate_parameters=None,\n",
       "                                     verbosity=None),\n",
       "             param_grid={'eta': array([0.1, 0.2, 0.3, 0.4, 0.5, 0.6, 0.7, 0.8, 0.9]),\n",
       "                         'min_child_weight': range(1, 10),\n",
       "                         'n_estimators': range(10, 100, 5),\n",
       "                         'subsample': array([0.1, 0.3, 0.5, 0.7, 0.9])})"
      ]
     },
     "execution_count": 25,
     "metadata": {},
     "output_type": "execute_result"
    }
   ],
   "source": [
    "%%time\n",
    "# обучение мета-алгоритма для получения лучших параметров\n",
    "\n",
    "grid_meta.fit(meta_mtrx, y_test)"
   ]
  },
  {
   "cell_type": "code",
   "execution_count": 26,
   "metadata": {
    "execution": {
     "iopub.execute_input": "2021-02-02T10:50:41.311040Z",
     "iopub.status.busy": "2021-02-02T10:50:41.310050Z",
     "iopub.status.idle": "2021-02-02T10:50:41.315667Z",
     "shell.execute_reply": "2021-02-02T10:50:41.315139Z"
    },
    "papermill": {
     "duration": 0.048823,
     "end_time": "2021-02-02T10:50:41.315818",
     "exception": false,
     "start_time": "2021-02-02T10:50:41.266995",
     "status": "completed"
    },
    "tags": []
   },
   "outputs": [
    {
     "data": {
      "text/plain": [
       "{'eta': 0.6,\n",
       " 'min_child_weight': 4,\n",
       " 'n_estimators': 50,\n",
       " 'subsample': 0.30000000000000004}"
      ]
     },
     "execution_count": 26,
     "metadata": {},
     "output_type": "execute_result"
    }
   ],
   "source": [
    "# вывод лучших параметров\n",
    "meta_best_params = grid_meta.best_params_\n",
    "meta_best_params"
   ]
  },
  {
   "cell_type": "code",
   "execution_count": 27,
   "metadata": {
    "execution": {
     "iopub.execute_input": "2021-02-02T10:50:41.395876Z",
     "iopub.status.busy": "2021-02-02T10:50:41.395057Z",
     "iopub.status.idle": "2021-02-02T10:50:41.401425Z",
     "shell.execute_reply": "2021-02-02T10:50:41.402003Z"
    },
    "papermill": {
     "duration": 0.048185,
     "end_time": "2021-02-02T10:50:41.402187",
     "exception": false,
     "start_time": "2021-02-02T10:50:41.354002",
     "status": "completed"
    },
    "tags": []
   },
   "outputs": [],
   "source": [
    "# определяем базовые алгоритмы с лучшими параметрами\n",
    "rfc_best = RandomForestClassifier(min_samples_leaf=2, n_estimators=10)\n",
    "svc_best = SVC(C=0.1, kernel='linear')\n",
    "gbc_best = GradientBoostingClassifier(learning_rate=0.2)\n",
    "lr_best = LogisticRegression(C=0.7999999999999999)\n",
    "\n",
    "# определяем мета-алгоритм\n",
    "meta_best = XGBClassifier(eta=meta_best_params['eta'],\n",
    "                          min_child_weight=meta_best_params['min_child_weight'],\n",
    "                          n_estimators=meta_best_params['n_estimators'],\n",
    "                          subsample=meta_best_params['subsample'])\n",
    "\n",
    "models = [rfc_best, svc_best, gbc_best, lr_best]"
   ]
  },
  {
   "cell_type": "code",
   "execution_count": 28,
   "metadata": {
    "execution": {
     "iopub.execute_input": "2021-02-02T10:50:41.481022Z",
     "iopub.status.busy": "2021-02-02T10:50:41.480281Z",
     "iopub.status.idle": "2021-02-02T10:50:41.487323Z",
     "shell.execute_reply": "2021-02-02T10:50:41.486543Z"
    },
    "papermill": {
     "duration": 0.047396,
     "end_time": "2021-02-02T10:50:41.487490",
     "exception": false,
     "start_time": "2021-02-02T10:50:41.440094",
     "status": "completed"
    },
    "tags": []
   },
   "outputs": [],
   "source": [
    "# выныносим столбец Survived в отдельную переменную и убираем из датасета \n",
    "targets = train.Survived\n",
    "data = train.drop(columns='Survived')"
   ]
  },
  {
   "cell_type": "code",
   "execution_count": 29,
   "metadata": {
    "execution": {
     "iopub.execute_input": "2021-02-02T10:50:41.568511Z",
     "iopub.status.busy": "2021-02-02T10:50:41.567785Z",
     "iopub.status.idle": "2021-02-02T10:50:42.863602Z",
     "shell.execute_reply": "2021-02-02T10:50:42.864784Z"
    },
    "papermill": {
     "duration": 1.337616,
     "end_time": "2021-02-02T10:50:42.865059",
     "exception": false,
     "start_time": "2021-02-02T10:50:41.527443",
     "status": "completed"
    },
    "tags": []
   },
   "outputs": [
    {
     "name": "stdout",
     "output_type": "stream",
     "text": [
      "[10:50:42] WARNING: ../src/learner.cc:1061: Starting in XGBoost 1.3.0, the default evaluation metric used with the objective 'binary:logistic' was changed from 'error' to 'logloss'. Explicitly set eval_metric if you'd like to restore the old behavior.\n",
      "\n",
      "Predicted values: \n",
      "[0 1 0 0 1 0 1 0 1 0 0 0 1 0 1 1 0 0 0 1 0 1 1 0 1 0 1 0 0 0 0 0 0 1 1 0 0\n",
      " 1 0 0 0 1 0 1 1 0 0 0 1 0 0 0 1 1 0 0 0 0 0 1 0 0 0 1 1 1 1 0 1 1 1 0 0 1\n",
      " 1 0 0 1 0 1 1 0 0 0 0 0 0 0 1 1 0 0 1 0 0 0 1 0 1 0 1 0 0 0 1 0 0 0 0 0 0\n",
      " 1 1 1 1 0 0 1 0 1 1 0 1 0 0 1 0 1 0 0 0 1 0 0 0 0 0 0 1 0 0 1 0 0 0 0 0 0\n",
      " 0 0 1 0 0 0 0 0 1 1 0 1 0 1 1 0 0 1 0 0 1 0 0 0 0 0 0 1 1 0 1 1 0 0 1 0 1\n",
      " 0 1 0 0 0 0 0 1 0 1 0 1 1 0 0 1 1 1 1 0 0 1 0 1 0 0 0 0 1 0 0 1 0 1 0 1 0\n",
      " 1 0 1 1 0 1 0 0 0 1 0 0 0 0 0 0 1 1 1 1 0 0 0 0 1 0 1 1 1 0 1 0 0 0 0 0 1\n",
      " 0 0 0 1 1 0 0 0 0 0 0 1 0 1 1 0 1 0 0 0 0 1 1 1 1 1 0 0 0 0 0 0 1 0 1 0 0\n",
      " 1 0 0 0 0 0 0 0 1 1 0 1 0 0 0 0 0 1 1 1 0 0 0 0 0 0 0 0 1 0 1 0 0 0 1 0 0\n",
      " 1 0 1 0 0 0 0 0 0 0 1 1 1 0 1 0 1 1 0 0 0 0 0 1 0 0 1 0 1 1 0 1 0 0 1 1 0\n",
      " 0 1 0 0 1 1 1 0 0 0 0 0 1 1 0 1 0 0 0 0 0 1 1 0 0 1 0 1 0 0 1 0 1 0 0 1 0\n",
      " 0 1 1 1 1 1 0 1 0 0 0]\n"
     ]
    }
   ],
   "source": [
    "# прогноз для мета-алгоритма\n",
    "meta_predictions = stacking(models, meta_best, data, targets, test, targets_test=None, random_state=None, test_size=None, cv=5)"
   ]
  },
  {
   "cell_type": "code",
   "execution_count": 30,
   "metadata": {
    "execution": {
     "iopub.execute_input": "2021-02-02T10:50:42.951739Z",
     "iopub.status.busy": "2021-02-02T10:50:42.950460Z",
     "iopub.status.idle": "2021-02-02T10:50:42.954016Z",
     "shell.execute_reply": "2021-02-02T10:50:42.953475Z"
    },
    "papermill": {
     "duration": 0.048724,
     "end_time": "2021-02-02T10:50:42.954171",
     "exception": false,
     "start_time": "2021-02-02T10:50:42.905447",
     "status": "completed"
    },
    "tags": []
   },
   "outputs": [],
   "source": [
    "def write_to_submission_file(predictions, PassengerID, out_file='Submission.csv', columns=['PassengerID', 'Survived']):\n",
    "    predicted_df = pd.DataFrame(np.array([PassengerId, meta_predictions]).T, columns=columns)\n",
    "    predicted_df.to_csv(out_file, index=False)"
   ]
  },
  {
   "cell_type": "code",
   "execution_count": 31,
   "metadata": {
    "execution": {
     "iopub.execute_input": "2021-02-02T10:50:43.040582Z",
     "iopub.status.busy": "2021-02-02T10:50:43.039763Z",
     "iopub.status.idle": "2021-02-02T10:50:43.049107Z",
     "shell.execute_reply": "2021-02-02T10:50:43.048529Z"
    },
    "papermill": {
     "duration": 0.054537,
     "end_time": "2021-02-02T10:50:43.049249",
     "exception": false,
     "start_time": "2021-02-02T10:50:42.994712",
     "status": "completed"
    },
    "tags": []
   },
   "outputs": [],
   "source": [
    "write_to_submission_file(meta_predictions, PassengerId)"
   ]
  }
 ],
 "metadata": {
  "kernelspec": {
   "display_name": "Python 3",
   "language": "python",
   "name": "python3"
  },
  "language_info": {
   "codemirror_mode": {
    "name": "ipython",
    "version": 3
   },
   "file_extension": ".py",
   "mimetype": "text/x-python",
   "name": "python",
   "nbconvert_exporter": "python",
   "pygments_lexer": "ipython3",
   "version": "3.8.5"
  },
  "papermill": {
   "default_parameters": {},
   "duration": 773.830697,
   "end_time": "2021-02-02T10:50:43.999483",
   "environment_variables": {},
   "exception": null,
   "input_path": "__notebook__.ipynb",
   "output_path": "__notebook__.ipynb",
   "parameters": {},
   "start_time": "2021-02-02T10:37:50.168786",
   "version": "2.2.2"
  }
 },
 "nbformat": 4,
 "nbformat_minor": 4
}
